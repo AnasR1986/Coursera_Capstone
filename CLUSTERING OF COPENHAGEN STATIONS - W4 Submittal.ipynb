{
 "cells": [
  {
   "cell_type": "markdown",
   "metadata": {},
   "source": [
    "   # CLUSTERING OF COPENHAGEN STATIONS \n",
    "\n",
    "# Introduction\n",
    "\n",
    "\n",
    "\n",
    "Copenhagen has 125 metro and train stations. Goverment is discussing building 4 new metro stations and 2 new train stations.\n",
    "\n",
    "S Train (alone) is used annualy by more than 116 million people (2016) whereas 220 thousdands residents take Copenhagen metro daily to their work. \n",
    "\n",
    "For this project, I want to look at the neighborhoods surrounding metro stations and classify them. Some neighborhoods are mostly residential, others have more business and commercial spaces surrounding them. The venues closest to a station determine why and how people use it. e.g. if there are low counts of professional places in a neighborhood then its residents are likely to commute to other areas for work. This contributes to daily traffice.\n",
    "\n",
    "\n",
    "## Target Audience\n",
    "By analyzing this data we can classify stations by their primary usage. This data is useful for:\n",
    "<ul>\n",
    "    <li>City planners to tell how people are most likely to move around in the city for work or just to rewind. This also can help plan further extension of the transport network\n",
    "    <li> Someone looking to decide on their residence area. This analysis provides an insight on the blend of venues around each stations. \n",
    "         </ul>\n",
    "moreover,\n",
    "<ul>\n",
    "    <li> It helps businesses determine locations that best suits nature of their businesses.\n",
    "    <li> Curious souls like mine....     \n",
    "         </ul>\n",
    "         \n",
    "## Data: \n",
    " \n",
    "For this project, I need data on stations (train and metro) and on the venues around them.\n",
    "\n",
    "\n",
    "<ol>\n",
    "<li>List of transport stations are available on Wikipedia page,\n",
    "        \n",
    "For metro network, it is [HERE]( https://en.wikipedia.org/wiki/List_of_Copenhagen_Metro_stations). \n",
    "For train network,  it is [HERE]( https://en.wikipedia.org/wiki/List_of_Copenhagen_S-train_stations) \n",
    "    \n",
    "<li> Foursquare API to explore venue types surrounding each station. Foursquare outlines these high-level venue categories with more sub-categories.\n",
    "</ol>\n",
    "\n",
    "\n",
    "We’ll be querying the number of venues in each category in a 1000m radius around each station. This radius was chosen because 1000m is a reasonable walking distance."
   ]
  },
  {
   "cell_type": "markdown",
   "metadata": {},
   "source": []
  }
 ],
 "metadata": {
  "kernelspec": {
   "display_name": "Python 3",
   "language": "python",
   "name": "python3"
  },
  "language_info": {
   "codemirror_mode": {
    "name": "ipython",
    "version": 3
   },
   "file_extension": ".py",
   "mimetype": "text/x-python",
   "name": "python",
   "nbconvert_exporter": "python",
   "pygments_lexer": "ipython3",
   "version": "3.7.7"
  }
 },
 "nbformat": 4,
 "nbformat_minor": 4
}
